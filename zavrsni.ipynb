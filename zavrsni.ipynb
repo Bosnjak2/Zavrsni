{
  "cells": [
    {
      "cell_type": "code",
      "execution_count": 1,
      "id": "ba9051e7",
      "metadata": {
        "id": "ba9051e7"
      },
      "outputs": [],
      "source": [
        "import os\n",
        "import torch\n",
        "import torchvision\n",
        "import tarfile\n",
        "import torch.nn as nn\n",
        "import numpy as np\n",
        "import torch.nn.functional as func\n",
        "from torchvision.datasets.utils import download_url\n",
        "from torchvision.datasets import ImageFolder\n",
        "from torch.utils.data import DataLoader\n",
        "import torchvision.transforms as trans"
      ]
    },
    {
      "cell_type": "code",
      "execution_count": 2,
      "id": "f387e599",
      "metadata": {
        "colab": {
          "base_uri": "https://localhost:8080/",
          "height": 101,
          "referenced_widgets": [
            "d7823c1adc6745288394905b97f31ceb",
            "83429ca4ea4648d69c7740148eb2711e",
            "50a9773cfc0d48988e3bbc13aab222e1",
            "2ece666aa1fb42eb868a369778a4596c",
            "63bcf18d524b480585c04f75106cd6a8",
            "36e718de612749308ed417eba6d84048",
            "6d49ca6c2e0342faa0dc31b9397d1908",
            "a627e0c1750a4ff4a44f0f14d071122b",
            "d4536e13bcfb4d8b88025e481c0b1b02",
            "aa110b1942564b83a9c4140a4f911df3",
            "1f28b02fc08f4feeb38a0bf014913560"
          ]
        },
        "id": "f387e599",
        "outputId": "d838cea2-7eeb-4fe0-eec3-51ba4cc25a1e"
      },
      "outputs": [
        {
          "output_type": "stream",
          "name": "stdout",
          "text": [
            "Downloading https://s3.amazonaws.com/fast-ai-imageclas/cifar10.tgz to ./cifar10.tgz\n"
          ]
        },
        {
          "output_type": "display_data",
          "data": {
            "text/plain": [
              "  0%|          | 0/135107811 [00:00<?, ?it/s]"
            ],
            "application/vnd.jupyter.widget-view+json": {
              "version_major": 2,
              "version_minor": 0,
              "model_id": "d7823c1adc6745288394905b97f31ceb"
            }
          },
          "metadata": {}
        },
        {
          "output_type": "stream",
          "name": "stdout",
          "text": [
            "['train', 'test']\n",
            "['frog', 'dog', 'bird', 'airplane', 'ship', 'truck', 'deer', 'horse', 'cat', 'automobile']\n"
          ]
        }
      ],
      "source": [
        " \n",
        "download_url(\"https://s3.amazonaws.com/fast-ai-imageclas/cifar10.tgz\", '.')\n",
        "\n",
        "with tarfile.open('./cifar10.tgz', 'r:gz') as tar:\n",
        "    tar.extractall(path='./data')\n",
        "    \n",
        "print(os.listdir('./data/cifar10'))\n",
        "classes = os.listdir('./data/cifar10' + \"/train\")\n",
        "print(classes)"
      ]
    },
    {
      "cell_type": "code",
      "execution_count": 25,
      "id": "2b39523d",
      "metadata": {
        "id": "2b39523d"
      },
      "outputs": [],
      "source": [
        "trainIF = ImageFolder('./data/cifar10/train', trans.Compose([trans.RandomCrop(32, padding=4, padding_mode='reflect'),\n",
        "                         trans.AutoAugment(policy=trans.AutoAugmentPolicy.CIFAR10),\n",
        "                         trans.RandomHorizontalFlip(),\n",
        "                         trans.ToTensor(), \n",
        "                         trans.Normalize((0.4914, 0.4822, 0.4465), (0.2023, 0.1994, 0.2010),inplace=True)]))\n",
        "validIF = ImageFolder('./data/cifar10/test', trans.Compose([trans.ToTensor(), trans.Normalize((0.4914, 0.4822, 0.4465), (0.2023, 0.1994, 0.2010))]))"
      ]
    },
    {
      "cell_type": "code",
      "execution_count": 26,
      "id": "20c8bfb8",
      "metadata": {
        "colab": {
          "base_uri": "https://localhost:8080/"
        },
        "id": "20c8bfb8",
        "outputId": "37f5e2ae-c94d-4fcb-da03-a9ca32d72daa"
      },
      "outputs": [
        {
          "output_type": "execute_result",
          "data": {
            "text/plain": [
              "device(type='cuda')"
            ]
          },
          "metadata": {},
          "execution_count": 26
        }
      ],
      "source": [
        "def get_default_device():\n",
        "    if torch.cuda.is_available():\n",
        "        return torch.device('cuda')\n",
        "    else:\n",
        "        return torch.device('cpu')\n",
        "    \n",
        "def to_device(data, device):\n",
        "    if isinstance(data, (list,tuple)):\n",
        "        return [to_device(x, device) for x in data]\n",
        "    return data.to(device, non_blocking=True)\n",
        "\n",
        "class DeviceDataLoader():\n",
        "    def __init__(self, dl, device):\n",
        "        self.dl = dl\n",
        "        self.device = device\n",
        "        \n",
        "    def __iter__(self):\n",
        "        for b in self.dl: \n",
        "            yield to_device(b, self.device)\n",
        "\n",
        "    def __len__(self):\n",
        "        return len(self.dl)\n",
        "    \n",
        "device = get_default_device()\n",
        "device"
      ]
    },
    {
      "cell_type": "code",
      "execution_count": 27,
      "id": "9a7ba32f",
      "metadata": {
        "id": "9a7ba32f"
      },
      "outputs": [],
      "source": [
        "batchSize = 400\n",
        "trainDL = DataLoader(trainIF, batchSize, shuffle=True, num_workers = 2, pin_memory=True)\n",
        "validDL = DataLoader(validIF, batchSize*2, num_workers = 2, pin_memory=True)"
      ]
    },
    {
      "cell_type": "code",
      "execution_count": 29,
      "id": "34bc2fe6",
      "metadata": {
        "id": "34bc2fe6"
      },
      "outputs": [],
      "source": [
        "trainDL = DeviceDataLoader(trainDL, device)\n",
        "validDL = DeviceDataLoader(validDL, device)"
      ]
    },
    {
      "cell_type": "code",
      "execution_count": 30,
      "id": "3027b39a",
      "metadata": {
        "colab": {
          "base_uri": "https://localhost:8080/"
        },
        "id": "3027b39a",
        "outputId": "555aa103-7b01-4e62-cbe8-609350a65ab8"
      },
      "outputs": [
        {
          "output_type": "stream",
          "name": "stdout",
          "text": [
            "torch.Size([400, 3, 32, 32])\n"
          ]
        }
      ],
      "source": [
        "class SimpleResidualBlock(nn.Module):\n",
        "    def __init__(self):\n",
        "        super().__init__()\n",
        "        channelsIn = 3\n",
        "        channelsOut = 3\n",
        "        kernel_size = 3\n",
        "        stride = 1\n",
        "        padding = 1\n",
        "        self.conv1 = nn.Conv2d(channelsIn, channelsOut, kernel_size, stride, padding)\n",
        "        self.relu1 = nn.ReLU()\n",
        "        self.conv2 = nn.Conv2d(channelsIn, channelsOut, kernel_size, stride, padding)\n",
        "        self.relu2 = nn.ReLU()\n",
        "        \n",
        "    def forward(self, x):\n",
        "        out = self.conv1(x)\n",
        "        out = self.relu1(out)\n",
        "        out = self.conv2(out)\n",
        "        return self.relu2(out) + x \n",
        "    \n",
        "\n",
        "\n",
        "simpleResnet = to_device(SimpleResidualBlock(), device)\n",
        "\n",
        "for images, labels in trainDL:\n",
        "    out = simpleResnet(images)\n",
        "    print(out.shape)\n",
        "    break\n",
        "    \n",
        "del simpleResnet, images, labels\n",
        "torch.cuda.empty_cache()\n",
        "\n"
      ]
    },
    {
      "cell_type": "code",
      "execution_count": 31,
      "id": "32fc2f19",
      "metadata": {
        "id": "32fc2f19"
      },
      "outputs": [],
      "source": [
        "def accuracy(outputs, labels):\n",
        "    _, preds = torch.max(outputs, dim=1)\n",
        "    return torch.tensor(torch.sum(preds == labels).item() / len(preds))\n",
        "\n",
        "class ImageClassificationBase(nn.Module):\n",
        "    def training_step(self, batch):\n",
        "        images, labels = batch \n",
        "        out = self(images)\n",
        "        loss = func.cross_entropy(out, labels)\n",
        "        return loss\n",
        "    \n",
        "    def validation_step(self, batch):\n",
        "        images, labels = batch \n",
        "        out = self(images)\n",
        "        loss = func.cross_entropy(out, labels)\n",
        "        acc = accuracy(out, labels) \n",
        "        return {'val_loss': loss.detach(), 'val_acc': acc}\n",
        "        \n",
        "    def validation_epoch_end(self, outputs):\n",
        "        batch_losses = [x['val_loss'] for x in outputs]\n",
        "        epoch_loss = torch.stack(batch_losses).mean()\n",
        "        batch_accs = [x['val_acc'] for x in outputs]\n",
        "        epoch_acc = torch.stack(batch_accs).mean()\n",
        "        return {'val_loss': epoch_loss.item(), 'val_acc': epoch_acc.item()}\n",
        "    \n",
        "    def epoch_end(self, epoch, result):\n",
        "        print(\"Epoch [{}], last_lr: {:.5f}, train_loss: {:.4f}, val_loss: {:.4f}, val_acc: {:.4f}\".format(\n",
        "            epoch, result['lrs'][-1], result['train_loss'], result['val_loss'], result['val_acc']))\n",
        "     \n",
        "    \n",
        "    \n",
        "def convBlock(ChannelsIn, channelsOut, pool=False):\n",
        "    layers = [nn.Conv2d(ChannelsIn, channelsOut, kernel_size=3, padding=1), \n",
        "            nn.BatchNorm2d(channelsOut), \n",
        "            nn.ReLU(inplace=True)]\n",
        "    if pool: layers.append(nn.MaxPool2d(2))\n",
        "    return nn.Sequential(*layers)\n",
        "\n",
        "class ResNet9(ImageClassificationBase):\n",
        "    def __init__(self, channelsIn, numClasses, channelsOut):\n",
        "        super().__init__()\n",
        "        \n",
        "        self.conv1 = convBlock(channelsIn, channelsOut)\n",
        "        channelsIn = channelsOut\n",
        "        self.conv2 = convBlock(channelsIn, channelsOut*2, pool=True)\n",
        "        self.res1 = nn.Sequential(convBlock(channelsIn*2, channelsOut*2), convBlock(channelsIn*2, channelsOut*2))\n",
        "        \n",
        "        self.conv3 = convBlock(channelsIn*2, channelsOut*4, pool=True)\n",
        "        self.conv4 = convBlock(channelsIn*4, channelsOut*8, pool=True)\n",
        "        self.res2 = nn.Sequential(convBlock(channelsIn*8, channelsOut*8), convBlock(channelsIn*8, channelsOut*8))\n",
        "        \n",
        "        self.classifier = nn.Sequential(nn.MaxPool2d(4), \n",
        "                                        nn.Flatten(), \n",
        "                                        nn.Linear(512, numClasses))\n",
        "        \n",
        "    def forward(self, xb):\n",
        "        out = self.conv1(xb)\n",
        "        out = self.conv2(out)\n",
        "        out = self.res1(out) + out\n",
        "        out = self.conv3(out)\n",
        "        out = self.conv4(out)\n",
        "        out = self.res2(out) + out\n",
        "        out = self.classifier(out)\n",
        "        return out"
      ]
    },
    {
      "cell_type": "code",
      "execution_count": 32,
      "id": "39d36acf",
      "metadata": {
        "colab": {
          "base_uri": "https://localhost:8080/"
        },
        "id": "39d36acf",
        "outputId": "fc5139d6-4b9f-4fc8-fbbf-6dad29febb12"
      },
      "outputs": [
        {
          "output_type": "execute_result",
          "data": {
            "text/plain": [
              "ResNet9(\n",
              "  (conv1): Sequential(\n",
              "    (0): Conv2d(3, 64, kernel_size=(3, 3), stride=(1, 1), padding=(1, 1))\n",
              "    (1): BatchNorm2d(64, eps=1e-05, momentum=0.1, affine=True, track_running_stats=True)\n",
              "    (2): ReLU(inplace=True)\n",
              "  )\n",
              "  (conv2): Sequential(\n",
              "    (0): Conv2d(64, 128, kernel_size=(3, 3), stride=(1, 1), padding=(1, 1))\n",
              "    (1): BatchNorm2d(128, eps=1e-05, momentum=0.1, affine=True, track_running_stats=True)\n",
              "    (2): ReLU(inplace=True)\n",
              "    (3): MaxPool2d(kernel_size=2, stride=2, padding=0, dilation=1, ceil_mode=False)\n",
              "  )\n",
              "  (res1): Sequential(\n",
              "    (0): Sequential(\n",
              "      (0): Conv2d(128, 128, kernel_size=(3, 3), stride=(1, 1), padding=(1, 1))\n",
              "      (1): BatchNorm2d(128, eps=1e-05, momentum=0.1, affine=True, track_running_stats=True)\n",
              "      (2): ReLU(inplace=True)\n",
              "    )\n",
              "    (1): Sequential(\n",
              "      (0): Conv2d(128, 128, kernel_size=(3, 3), stride=(1, 1), padding=(1, 1))\n",
              "      (1): BatchNorm2d(128, eps=1e-05, momentum=0.1, affine=True, track_running_stats=True)\n",
              "      (2): ReLU(inplace=True)\n",
              "    )\n",
              "  )\n",
              "  (conv3): Sequential(\n",
              "    (0): Conv2d(128, 256, kernel_size=(3, 3), stride=(1, 1), padding=(1, 1))\n",
              "    (1): BatchNorm2d(256, eps=1e-05, momentum=0.1, affine=True, track_running_stats=True)\n",
              "    (2): ReLU(inplace=True)\n",
              "    (3): MaxPool2d(kernel_size=2, stride=2, padding=0, dilation=1, ceil_mode=False)\n",
              "  )\n",
              "  (conv4): Sequential(\n",
              "    (0): Conv2d(256, 512, kernel_size=(3, 3), stride=(1, 1), padding=(1, 1))\n",
              "    (1): BatchNorm2d(512, eps=1e-05, momentum=0.1, affine=True, track_running_stats=True)\n",
              "    (2): ReLU(inplace=True)\n",
              "    (3): MaxPool2d(kernel_size=2, stride=2, padding=0, dilation=1, ceil_mode=False)\n",
              "  )\n",
              "  (res2): Sequential(\n",
              "    (0): Sequential(\n",
              "      (0): Conv2d(512, 512, kernel_size=(3, 3), stride=(1, 1), padding=(1, 1))\n",
              "      (1): BatchNorm2d(512, eps=1e-05, momentum=0.1, affine=True, track_running_stats=True)\n",
              "      (2): ReLU(inplace=True)\n",
              "    )\n",
              "    (1): Sequential(\n",
              "      (0): Conv2d(512, 512, kernel_size=(3, 3), stride=(1, 1), padding=(1, 1))\n",
              "      (1): BatchNorm2d(512, eps=1e-05, momentum=0.1, affine=True, track_running_stats=True)\n",
              "      (2): ReLU(inplace=True)\n",
              "    )\n",
              "  )\n",
              "  (classifier): Sequential(\n",
              "    (0): MaxPool2d(kernel_size=4, stride=4, padding=0, dilation=1, ceil_mode=False)\n",
              "    (1): Flatten(start_dim=1, end_dim=-1)\n",
              "    (2): Linear(in_features=512, out_features=10, bias=True)\n",
              "  )\n",
              ")"
            ]
          },
          "metadata": {},
          "execution_count": 32
        }
      ],
      "source": [
        "model = to_device(ResNet9(3, 10, 64), device)\n",
        "model"
      ]
    },
    {
      "cell_type": "code",
      "execution_count": 33,
      "id": "8af80bc1",
      "metadata": {
        "id": "8af80bc1"
      },
      "outputs": [],
      "source": [
        "@torch.no_grad()\n",
        "def evaluate(model, validDL):\n",
        "    model.eval()\n",
        "    outputs = [model.validation_step(batch) for batch in validDL]\n",
        "    return model.validation_epoch_end(outputs)\n",
        "\n",
        "def get_lr(optimizer):\n",
        "    for param_group in optimizer.param_groups:\n",
        "        return param_group['lr']\n",
        "\n",
        "def customOptimizer(model, max_lr, weightDecay, opt_func):\n",
        "    return opt_func(model.parameters(), max_lr, weight_decay=weightDecay)\n",
        "\n",
        "def fit_one_cycle(train_loader, val_loader, epochs, max_lr, model, \n",
        "                  weight_decay=0, grad_clip=None, opt_func=torch.optim.SGD):\n",
        "    torch.cuda.empty_cache()\n",
        "    history = []\n",
        "    \n",
        "    optimizer = opt_func(model.parameters(), max_lr, weight_decay=weight_decay)\n",
        "    sched = torch.optim.lr_scheduler.OneCycleLR(optimizer, max_lr, epochs=epochs, \n",
        "                                                steps_per_epoch=len(train_loader))\n",
        "    \n",
        "    for epoch in range(epochs):\n",
        "        model.train()\n",
        "        train_losses = []\n",
        "        lrs = []\n",
        "        for batch in train_loader:\n",
        "            loss = model.training_step(batch)\n",
        "            train_losses.append(loss)\n",
        "            loss.backward()\n",
        "            \n",
        "            if grad_clip: \n",
        "                nn.utils.clip_grad_value_(model.parameters(), grad_clip)\n",
        "            \n",
        "            optimizer.step()\n",
        "            optimizer.zero_grad()\n",
        "            \n",
        "            lrs.append(get_lr(optimizer))\n",
        "            sched.step()\n",
        "        \n",
        "        result = evaluate(model, val_loader)\n",
        "        result['train_loss'] = torch.stack(train_losses).mean().item()\n",
        "        result['lrs'] = lrs\n",
        "        model.epoch_end(epoch+1, result)\n",
        "        history.append(result)\n",
        "    return history\n"
      ]
    },
    {
      "cell_type": "code",
      "execution_count": 34,
      "id": "6ceb75d8",
      "metadata": {
        "id": "6ceb75d8",
        "colab": {
          "base_uri": "https://localhost:8080/"
        },
        "outputId": "3331be37-b77b-4745-cc8e-661a0fdbb1e4"
      },
      "outputs": [
        {
          "output_type": "execute_result",
          "data": {
            "text/plain": [
              "[{'val_loss': 2.3034961223602295, 'val_acc': 0.10096153616905212}]"
            ]
          },
          "metadata": {},
          "execution_count": 34
        }
      ],
      "source": [
        "import gc\n",
        "import os\n",
        "os.environ['CUDA_VISIBLE_DEVICES']='2, 3'\n",
        "\n",
        "gc.collect()\n",
        "\n",
        "torch.cuda.empty_cache()\n",
        "history = [evaluate(model, validDL)]\n",
        "history"
      ]
    },
    {
      "cell_type": "code",
      "execution_count": 35,
      "id": "007cdcc8",
      "metadata": {
        "id": "007cdcc8",
        "outputId": "0fbda001-9cb5-4e5a-c69e-5ff77bd5aa12",
        "colab": {
          "base_uri": "https://localhost:8080/"
        }
      },
      "outputs": [
        {
          "output_type": "stream",
          "name": "stdout",
          "text": [
            "Epoch [1], last_lr: 0.00073, train_loss: 1.6815, val_loss: 1.2268, val_acc: 0.5649\n",
            "Epoch [2], last_lr: 0.00178, train_loss: 1.1932, val_loss: 0.8052, val_acc: 0.7231\n",
            "Epoch [3], last_lr: 0.00334, train_loss: 1.0168, val_loss: 0.8428, val_acc: 0.7247\n",
            "Epoch [4], last_lr: 0.00512, train_loss: 0.9504, val_loss: 1.0585, val_acc: 0.6763\n",
            "Epoch [5], last_lr: 0.00684, train_loss: 0.9432, val_loss: 0.7586, val_acc: 0.7430\n",
            "Epoch [6], last_lr: 0.00817, train_loss: 0.8517, val_loss: 0.6521, val_acc: 0.7832\n",
            "Epoch [7], last_lr: 0.00891, train_loss: 0.8139, val_loss: 0.6965, val_acc: 0.7710\n",
            "Epoch [8], last_lr: 0.00898, train_loss: 0.7583, val_loss: 0.7722, val_acc: 0.7587\n",
            "Epoch [9], last_lr: 0.00884, train_loss: 0.6833, val_loss: 0.5664, val_acc: 0.8083\n",
            "Epoch [10], last_lr: 0.00855, train_loss: 0.6514, val_loss: 0.5555, val_acc: 0.8149\n",
            "Epoch [11], last_lr: 0.00814, train_loss: 0.6311, val_loss: 0.5023, val_acc: 0.8389\n",
            "Epoch [12], last_lr: 0.00761, train_loss: 0.5995, val_loss: 0.4878, val_acc: 0.8363\n",
            "Epoch [13], last_lr: 0.00698, train_loss: 0.5735, val_loss: 0.5104, val_acc: 0.8280\n",
            "Epoch [14], last_lr: 0.00627, train_loss: 0.5591, val_loss: 0.4736, val_acc: 0.8440\n",
            "Epoch [15], last_lr: 0.00550, train_loss: 0.5328, val_loss: 0.4448, val_acc: 0.8507\n",
            "Epoch [16], last_lr: 0.00470, train_loss: 0.4997, val_loss: 0.3438, val_acc: 0.8851\n",
            "Epoch [17], last_lr: 0.00390, train_loss: 0.4712, val_loss: 0.3512, val_acc: 0.8813\n",
            "Epoch [18], last_lr: 0.00311, train_loss: 0.4279, val_loss: 0.3307, val_acc: 0.8850\n",
            "Epoch [19], last_lr: 0.00237, train_loss: 0.3980, val_loss: 0.3084, val_acc: 0.8987\n",
            "Epoch [20], last_lr: 0.00169, train_loss: 0.3679, val_loss: 0.2644, val_acc: 0.9097\n",
            "Epoch [21], last_lr: 0.00111, train_loss: 0.3224, val_loss: 0.2458, val_acc: 0.9196\n",
            "Epoch [22], last_lr: 0.00064, train_loss: 0.2897, val_loss: 0.2231, val_acc: 0.9262\n",
            "Epoch [23], last_lr: 0.00029, train_loss: 0.2565, val_loss: 0.2027, val_acc: 0.9320\n",
            "Epoch [24], last_lr: 0.00007, train_loss: 0.2386, val_loss: 0.1968, val_acc: 0.9355\n",
            "Epoch [25], last_lr: 0.00000, train_loss: 0.2308, val_loss: 0.1962, val_acc: 0.9358\n",
            "CPU times: user 1min 56s, sys: 22.9 s, total: 2min 19s\n",
            "Wall time: 18min 55s\n"
          ]
        }
      ],
      "source": [
        "%%time\n",
        "history += fit_one_cycle(trainDL, validDL, 25, 0.009, model,\n",
        "                             grad_clip=0.1, \n",
        "                             weight_decay=1e-4, \n",
        "                             opt_func=torch.optim.Adam)"
      ]
    },
    {
      "cell_type": "code",
      "execution_count": 36,
      "id": "57d259b0",
      "metadata": {
        "id": "57d259b0"
      },
      "outputs": [],
      "source": [
        "torch.save(model.state_dict(), 'zavrsni.pth')"
      ]
    },
    {
      "cell_type": "code",
      "execution_count": null,
      "id": "704b8731",
      "metadata": {
        "id": "704b8731"
      },
      "outputs": [],
      "source": [
        "model = torch.load('zavrsni.pth')\n",
        "model.eval()"
      ]
    }
  ],
  "metadata": {
    "kernelspec": {
      "display_name": "Python 3 (ipykernel)",
      "language": "python",
      "name": "python3"
    },
    "language_info": {
      "codemirror_mode": {
        "name": "ipython",
        "version": 3
      },
      "file_extension": ".py",
      "mimetype": "text/x-python",
      "name": "python",
      "nbconvert_exporter": "python",
      "pygments_lexer": "ipython3",
      "version": "3.9.7"
    },
    "colab": {
      "provenance": [],
      "collapsed_sections": []
    },
    "accelerator": "GPU",
    "widgets": {
      "application/vnd.jupyter.widget-state+json": {
        "d7823c1adc6745288394905b97f31ceb": {
          "model_module": "@jupyter-widgets/controls",
          "model_name": "HBoxModel",
          "model_module_version": "1.5.0",
          "state": {
            "_dom_classes": [],
            "_model_module": "@jupyter-widgets/controls",
            "_model_module_version": "1.5.0",
            "_model_name": "HBoxModel",
            "_view_count": null,
            "_view_module": "@jupyter-widgets/controls",
            "_view_module_version": "1.5.0",
            "_view_name": "HBoxView",
            "box_style": "",
            "children": [
              "IPY_MODEL_83429ca4ea4648d69c7740148eb2711e",
              "IPY_MODEL_50a9773cfc0d48988e3bbc13aab222e1",
              "IPY_MODEL_2ece666aa1fb42eb868a369778a4596c"
            ],
            "layout": "IPY_MODEL_63bcf18d524b480585c04f75106cd6a8"
          }
        },
        "83429ca4ea4648d69c7740148eb2711e": {
          "model_module": "@jupyter-widgets/controls",
          "model_name": "HTMLModel",
          "model_module_version": "1.5.0",
          "state": {
            "_dom_classes": [],
            "_model_module": "@jupyter-widgets/controls",
            "_model_module_version": "1.5.0",
            "_model_name": "HTMLModel",
            "_view_count": null,
            "_view_module": "@jupyter-widgets/controls",
            "_view_module_version": "1.5.0",
            "_view_name": "HTMLView",
            "description": "",
            "description_tooltip": null,
            "layout": "IPY_MODEL_36e718de612749308ed417eba6d84048",
            "placeholder": "​",
            "style": "IPY_MODEL_6d49ca6c2e0342faa0dc31b9397d1908",
            "value": "100%"
          }
        },
        "50a9773cfc0d48988e3bbc13aab222e1": {
          "model_module": "@jupyter-widgets/controls",
          "model_name": "FloatProgressModel",
          "model_module_version": "1.5.0",
          "state": {
            "_dom_classes": [],
            "_model_module": "@jupyter-widgets/controls",
            "_model_module_version": "1.5.0",
            "_model_name": "FloatProgressModel",
            "_view_count": null,
            "_view_module": "@jupyter-widgets/controls",
            "_view_module_version": "1.5.0",
            "_view_name": "ProgressView",
            "bar_style": "success",
            "description": "",
            "description_tooltip": null,
            "layout": "IPY_MODEL_a627e0c1750a4ff4a44f0f14d071122b",
            "max": 135107811,
            "min": 0,
            "orientation": "horizontal",
            "style": "IPY_MODEL_d4536e13bcfb4d8b88025e481c0b1b02",
            "value": 135107811
          }
        },
        "2ece666aa1fb42eb868a369778a4596c": {
          "model_module": "@jupyter-widgets/controls",
          "model_name": "HTMLModel",
          "model_module_version": "1.5.0",
          "state": {
            "_dom_classes": [],
            "_model_module": "@jupyter-widgets/controls",
            "_model_module_version": "1.5.0",
            "_model_name": "HTMLModel",
            "_view_count": null,
            "_view_module": "@jupyter-widgets/controls",
            "_view_module_version": "1.5.0",
            "_view_name": "HTMLView",
            "description": "",
            "description_tooltip": null,
            "layout": "IPY_MODEL_aa110b1942564b83a9c4140a4f911df3",
            "placeholder": "​",
            "style": "IPY_MODEL_1f28b02fc08f4feeb38a0bf014913560",
            "value": " 135107811/135107811 [00:11&lt;00:00, 13549613.03it/s]"
          }
        },
        "63bcf18d524b480585c04f75106cd6a8": {
          "model_module": "@jupyter-widgets/base",
          "model_name": "LayoutModel",
          "model_module_version": "1.2.0",
          "state": {
            "_model_module": "@jupyter-widgets/base",
            "_model_module_version": "1.2.0",
            "_model_name": "LayoutModel",
            "_view_count": null,
            "_view_module": "@jupyter-widgets/base",
            "_view_module_version": "1.2.0",
            "_view_name": "LayoutView",
            "align_content": null,
            "align_items": null,
            "align_self": null,
            "border": null,
            "bottom": null,
            "display": null,
            "flex": null,
            "flex_flow": null,
            "grid_area": null,
            "grid_auto_columns": null,
            "grid_auto_flow": null,
            "grid_auto_rows": null,
            "grid_column": null,
            "grid_gap": null,
            "grid_row": null,
            "grid_template_areas": null,
            "grid_template_columns": null,
            "grid_template_rows": null,
            "height": null,
            "justify_content": null,
            "justify_items": null,
            "left": null,
            "margin": null,
            "max_height": null,
            "max_width": null,
            "min_height": null,
            "min_width": null,
            "object_fit": null,
            "object_position": null,
            "order": null,
            "overflow": null,
            "overflow_x": null,
            "overflow_y": null,
            "padding": null,
            "right": null,
            "top": null,
            "visibility": null,
            "width": null
          }
        },
        "36e718de612749308ed417eba6d84048": {
          "model_module": "@jupyter-widgets/base",
          "model_name": "LayoutModel",
          "model_module_version": "1.2.0",
          "state": {
            "_model_module": "@jupyter-widgets/base",
            "_model_module_version": "1.2.0",
            "_model_name": "LayoutModel",
            "_view_count": null,
            "_view_module": "@jupyter-widgets/base",
            "_view_module_version": "1.2.0",
            "_view_name": "LayoutView",
            "align_content": null,
            "align_items": null,
            "align_self": null,
            "border": null,
            "bottom": null,
            "display": null,
            "flex": null,
            "flex_flow": null,
            "grid_area": null,
            "grid_auto_columns": null,
            "grid_auto_flow": null,
            "grid_auto_rows": null,
            "grid_column": null,
            "grid_gap": null,
            "grid_row": null,
            "grid_template_areas": null,
            "grid_template_columns": null,
            "grid_template_rows": null,
            "height": null,
            "justify_content": null,
            "justify_items": null,
            "left": null,
            "margin": null,
            "max_height": null,
            "max_width": null,
            "min_height": null,
            "min_width": null,
            "object_fit": null,
            "object_position": null,
            "order": null,
            "overflow": null,
            "overflow_x": null,
            "overflow_y": null,
            "padding": null,
            "right": null,
            "top": null,
            "visibility": null,
            "width": null
          }
        },
        "6d49ca6c2e0342faa0dc31b9397d1908": {
          "model_module": "@jupyter-widgets/controls",
          "model_name": "DescriptionStyleModel",
          "model_module_version": "1.5.0",
          "state": {
            "_model_module": "@jupyter-widgets/controls",
            "_model_module_version": "1.5.0",
            "_model_name": "DescriptionStyleModel",
            "_view_count": null,
            "_view_module": "@jupyter-widgets/base",
            "_view_module_version": "1.2.0",
            "_view_name": "StyleView",
            "description_width": ""
          }
        },
        "a627e0c1750a4ff4a44f0f14d071122b": {
          "model_module": "@jupyter-widgets/base",
          "model_name": "LayoutModel",
          "model_module_version": "1.2.0",
          "state": {
            "_model_module": "@jupyter-widgets/base",
            "_model_module_version": "1.2.0",
            "_model_name": "LayoutModel",
            "_view_count": null,
            "_view_module": "@jupyter-widgets/base",
            "_view_module_version": "1.2.0",
            "_view_name": "LayoutView",
            "align_content": null,
            "align_items": null,
            "align_self": null,
            "border": null,
            "bottom": null,
            "display": null,
            "flex": null,
            "flex_flow": null,
            "grid_area": null,
            "grid_auto_columns": null,
            "grid_auto_flow": null,
            "grid_auto_rows": null,
            "grid_column": null,
            "grid_gap": null,
            "grid_row": null,
            "grid_template_areas": null,
            "grid_template_columns": null,
            "grid_template_rows": null,
            "height": null,
            "justify_content": null,
            "justify_items": null,
            "left": null,
            "margin": null,
            "max_height": null,
            "max_width": null,
            "min_height": null,
            "min_width": null,
            "object_fit": null,
            "object_position": null,
            "order": null,
            "overflow": null,
            "overflow_x": null,
            "overflow_y": null,
            "padding": null,
            "right": null,
            "top": null,
            "visibility": null,
            "width": null
          }
        },
        "d4536e13bcfb4d8b88025e481c0b1b02": {
          "model_module": "@jupyter-widgets/controls",
          "model_name": "ProgressStyleModel",
          "model_module_version": "1.5.0",
          "state": {
            "_model_module": "@jupyter-widgets/controls",
            "_model_module_version": "1.5.0",
            "_model_name": "ProgressStyleModel",
            "_view_count": null,
            "_view_module": "@jupyter-widgets/base",
            "_view_module_version": "1.2.0",
            "_view_name": "StyleView",
            "bar_color": null,
            "description_width": ""
          }
        },
        "aa110b1942564b83a9c4140a4f911df3": {
          "model_module": "@jupyter-widgets/base",
          "model_name": "LayoutModel",
          "model_module_version": "1.2.0",
          "state": {
            "_model_module": "@jupyter-widgets/base",
            "_model_module_version": "1.2.0",
            "_model_name": "LayoutModel",
            "_view_count": null,
            "_view_module": "@jupyter-widgets/base",
            "_view_module_version": "1.2.0",
            "_view_name": "LayoutView",
            "align_content": null,
            "align_items": null,
            "align_self": null,
            "border": null,
            "bottom": null,
            "display": null,
            "flex": null,
            "flex_flow": null,
            "grid_area": null,
            "grid_auto_columns": null,
            "grid_auto_flow": null,
            "grid_auto_rows": null,
            "grid_column": null,
            "grid_gap": null,
            "grid_row": null,
            "grid_template_areas": null,
            "grid_template_columns": null,
            "grid_template_rows": null,
            "height": null,
            "justify_content": null,
            "justify_items": null,
            "left": null,
            "margin": null,
            "max_height": null,
            "max_width": null,
            "min_height": null,
            "min_width": null,
            "object_fit": null,
            "object_position": null,
            "order": null,
            "overflow": null,
            "overflow_x": null,
            "overflow_y": null,
            "padding": null,
            "right": null,
            "top": null,
            "visibility": null,
            "width": null
          }
        },
        "1f28b02fc08f4feeb38a0bf014913560": {
          "model_module": "@jupyter-widgets/controls",
          "model_name": "DescriptionStyleModel",
          "model_module_version": "1.5.0",
          "state": {
            "_model_module": "@jupyter-widgets/controls",
            "_model_module_version": "1.5.0",
            "_model_name": "DescriptionStyleModel",
            "_view_count": null,
            "_view_module": "@jupyter-widgets/base",
            "_view_module_version": "1.2.0",
            "_view_name": "StyleView",
            "description_width": ""
          }
        }
      }
    }
  },
  "nbformat": 4,
  "nbformat_minor": 5
}